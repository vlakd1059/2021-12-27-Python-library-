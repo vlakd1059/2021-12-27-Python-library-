{
 "cells": [
  {
   "cell_type": "code",
   "execution_count": 1,
   "id": "95ca9d2a",
   "metadata": {},
   "outputs": [],
   "source": [
    "#리스트 생성\n",
    "list1=[1,2,3,4,5]"
   ]
  },
  {
   "cell_type": "code",
   "execution_count": 3,
   "id": "c0879be0",
   "metadata": {},
   "outputs": [
    {
     "data": {
      "text/plain": [
       "1465784045952"
      ]
     },
     "execution_count": 3,
     "metadata": {},
     "output_type": "execute_result"
    }
   ],
   "source": [
    "#리스트 주소값 확인\n",
    "id(list1)"
   ]
  },
  {
   "cell_type": "code",
   "execution_count": 4,
   "id": "ce802212",
   "metadata": {},
   "outputs": [],
   "source": [
    "#리스트에 값 추가\n",
    "list1.append(6)"
   ]
  },
  {
   "cell_type": "code",
   "execution_count": 5,
   "id": "7c606608",
   "metadata": {},
   "outputs": [
    {
     "data": {
      "text/plain": [
       "1465784045952"
      ]
     },
     "execution_count": 5,
     "metadata": {},
     "output_type": "execute_result"
    }
   ],
   "source": [
    "#리스트 주소값 확인\n",
    "id(list1)"
   ]
  },
  {
   "cell_type": "code",
   "execution_count": 7,
   "id": "eec92e71",
   "metadata": {},
   "outputs": [
    {
     "data": {
      "text/plain": [
       "1465783300352"
      ]
     },
     "execution_count": 7,
     "metadata": {},
     "output_type": "execute_result"
    }
   ],
   "source": [
    "#리스트에 새로운 값 할당\n",
    "list1=[1,2,3,4]\n",
    "id(list1)"
   ]
  },
  {
   "cell_type": "code",
   "execution_count": 9,
   "id": "99ece5df",
   "metadata": {},
   "outputs": [
    {
     "data": {
      "text/plain": [
       "1465783300352"
      ]
     },
     "execution_count": 9,
     "metadata": {},
     "output_type": "execute_result"
    }
   ],
   "source": [
    "list2=list1\n",
    "id(list2)"
   ]
  },
  {
   "cell_type": "code",
   "execution_count": 13,
   "id": "d357b415",
   "metadata": {},
   "outputs": [],
   "source": [
    "#list2.append(5)\n",
    "list1.append(6)"
   ]
  },
  {
   "cell_type": "code",
   "execution_count": 14,
   "id": "96557543",
   "metadata": {},
   "outputs": [
    {
     "name": "stdout",
     "output_type": "stream",
     "text": [
      "list1:  [1, 2, 3, 4, 5, 6]\n",
      "list2:  [1, 2, 3, 4, 5, 6]\n"
     ]
    }
   ],
   "source": [
    "print('list1: ',list1)\n",
    "print('list2: ',list2)"
   ]
  },
  {
   "cell_type": "code",
   "execution_count": 16,
   "id": "b1ee6d1e",
   "metadata": {},
   "outputs": [
    {
     "data": {
      "text/plain": [
       "1465783766464"
      ]
     },
     "execution_count": 16,
     "metadata": {},
     "output_type": "execute_result"
    }
   ],
   "source": [
    "#다른주소로 값만 가져오기\n",
    "#copy(): 값만 가져오는 기능\n",
    "list3=list1.copy()\n",
    "id(list3)"
   ]
  },
  {
   "cell_type": "markdown",
   "id": "1f6597ba",
   "metadata": {},
   "source": [
    "### 리스트\n",
    "- remove\n",
    "- insert\n",
    "- pop\n",
    "- append\n",
    "-count\n",
    "- len\n",
    "- reverse\n",
    "- sort\n",
    "- 인덱싱\n",
    "- 슬라이싱\n",
    "-index"
   ]
  },
  {
   "cell_type": "code",
   "execution_count": 17,
   "id": "cca878ff",
   "metadata": {},
   "outputs": [],
   "source": [
    "# 가장 중요허게 쓰이는것 -> 인덱싱, 슬라이싱, append, remove"
   ]
  },
  {
   "cell_type": "code",
   "execution_count": null,
   "id": "8fbc950c",
   "metadata": {},
   "outputs": [],
   "source": [
    "# 1~50까지 딤긴 리스트 생성하기"
   ]
  },
  {
   "cell_type": "code",
   "execution_count": 33,
   "id": "7ab01282",
   "metadata": {},
   "outputs": [
    {
     "name": "stdout",
     "output_type": "stream",
     "text": [
      "[1, 2, 3, 4, 5, 6, 7, 8, 9, 10, 11, 12, 13, 14, 15, 16, 17, 18, 19, 20, 21, 22, 23, 24, 25, 26, 27, 28, 29, 30, 31, 32, 33, 34, 35, 36, 37, 38, 39, 40, 41, 42, 43, 44, 45, 46, 47, 48, 49, 50]\n"
     ]
    }
   ],
   "source": [
    "list1=[]\n",
    "for i in range(1,51):\n",
    "    list1.append(i) #appen  : 리스트에 값 추가\n",
    "print(list1)"
   ]
  },
  {
   "cell_type": "code",
   "execution_count": 40,
   "id": "5cedc198",
   "metadata": {},
   "outputs": [
    {
     "name": "stdout",
     "output_type": "stream",
     "text": [
      "10\n",
      "[15, 16, 17, 18, 19, 20, 21, 22, 23, 24, 25]\n"
     ]
    }
   ],
   "source": [
    "# 인덱싱 슬라이싱\n",
    "# 대괄호 []\n",
    "print(list1[9])\n",
    "print(list1[14:25])"
   ]
  },
  {
   "cell_type": "code",
   "execution_count": null,
   "id": "d751c4b6",
   "metadata": {},
   "outputs": [],
   "source": [
    "# print : 원하는 위치에서 출력가능 : 실행\n",
    "# 변수명출력 : 마지막위치에서만 출력 가능 : 출력"
   ]
  },
  {
   "cell_type": "code",
   "execution_count": 42,
   "id": "2596175d",
   "metadata": {},
   "outputs": [
    {
     "name": "stdout",
     "output_type": "stream",
     "text": [
      "asd\n",
      "asd\n"
     ]
    }
   ],
   "source": [
    "# \\n : 개행\n",
    "str1 = 'asd\\nasd'\n",
    "str1\n",
    "print(str1)"
   ]
  },
  {
   "cell_type": "markdown",
   "id": "21774115",
   "metadata": {},
   "source": [
    "## 딕셔너리\n",
    "- key, value로 이루어짐\n",
    "- "
   ]
  },
  {
   "cell_type": "code",
   "execution_count": null,
   "id": "4b56e9db",
   "metadata": {},
   "outputs": [],
   "source": [
    "# dic_team 변수명을 사용해 딕셔너리 만들기\n",
    "# 이름 나이 key값 사용\n",
    "# 팀원들의 정보 넣기"
   ]
  },
  {
   "cell_type": "code",
   "execution_count": 54,
   "id": "124ba2ff",
   "metadata": {},
   "outputs": [
    {
     "name": "stdout",
     "output_type": "stream",
     "text": [
      "{'이름': ['박건하, 한국인, 이동윤, 이승훈, 양승호'], '나이': [20, 21, 22, 23, 24]}\n"
     ]
    }
   ],
   "source": [
    "dic_team={'이름':['박건하, 한국인, 이동윤, 이승훈, 양승호'],\n",
    "          '나이':[20, 21, 22, 23, 24]}\n",
    "print(dic_team)"
   ]
  },
  {
   "cell_type": "code",
   "execution_count": null,
   "id": "a841263f",
   "metadata": {},
   "outputs": [],
   "source": []
  }
 ],
 "metadata": {
  "kernelspec": {
   "display_name": "Python 3 (ipykernel)",
   "language": "python",
   "name": "python3"
  },
  "language_info": {
   "codemirror_mode": {
    "name": "ipython",
    "version": 3
   },
   "file_extension": ".py",
   "mimetype": "text/x-python",
   "name": "python",
   "nbconvert_exporter": "python",
   "pygments_lexer": "ipython3",
   "version": "3.9.7"
  }
 },
 "nbformat": 4,
 "nbformat_minor": 5
}
